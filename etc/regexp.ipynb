{
  "nbformat": 4,
  "nbformat_minor": 0,
  "metadata": {
    "colab": {
      "name": "regexp.ipynb",
      "provenance": [],
      "authorship_tag": "ABX9TyPgORzwiY5PkhFpy1wIHC8H"
    },
    "kernelspec": {
      "name": "python3",
      "display_name": "Python 3"
    },
    "language_info": {
      "name": "python"
    }
  },
  "cells": [
    {
      "cell_type": "code",
      "metadata": {
        "id": "u_SDmbsMyVcN"
      },
      "source": [
        "import re"
      ],
      "execution_count": 1,
      "outputs": []
    },
    {
      "cell_type": "code",
      "metadata": {
        "id": "7xXCvye_zJkW"
      },
      "source": [
        "phone = \"2004-959-559 # This is Phone Number\""
      ],
      "execution_count": 13,
      "outputs": []
    },
    {
      "cell_type": "code",
      "metadata": {
        "colab": {
          "base_uri": "https://localhost:8080/"
        },
        "id": "a88ydLZt0379",
        "outputId": "3f343189-8768-40ea-fbce-7e30469207ec"
      },
      "source": [
        "obj = re.findall('[0-9]+', phone)\n",
        "type(obj), obj"
      ],
      "execution_count": 10,
      "outputs": [
        {
          "output_type": "execute_result",
          "data": {
            "text/plain": [
              "(list, ['2004', '959', '559'])"
            ]
          },
          "metadata": {},
          "execution_count": 10
        }
      ]
    },
    {
      "cell_type": "code",
      "metadata": {
        "colab": {
          "base_uri": "https://localhost:8080/"
        },
        "id": "ASIVMLux1MdV",
        "outputId": "109b9fab-a324-487f-de01-32fefb594f59"
      },
      "source": [
        "obj = re.findall('[0-9]', phone)\n",
        "type(obj), obj"
      ],
      "execution_count": 11,
      "outputs": [
        {
          "output_type": "execute_result",
          "data": {
            "text/plain": [
              "(list, ['2', '0', '0', '4', '9', '5', '9', '5', '5', '9'])"
            ]
          },
          "metadata": {},
          "execution_count": 11
        }
      ]
    },
    {
      "cell_type": "code",
      "metadata": {
        "colab": {
          "base_uri": "https://localhost:8080/",
          "height": 34
        },
        "id": "RdCvfpsk1Was",
        "outputId": "1d107234-5370-478c-e606-30f9020dae9b"
      },
      "source": [
        "re.sub('[0-9]+', '1', phone)"
      ],
      "execution_count": 12,
      "outputs": [
        {
          "output_type": "execute_result",
          "data": {
            "application/vnd.google.colaboratory.intrinsic+json": {
              "type": "string"
            },
            "text/plain": [
              "'1-1-1 # This is Phone Number'"
            ]
          },
          "metadata": {},
          "execution_count": 12
        }
      ]
    },
    {
      "cell_type": "code",
      "metadata": {
        "colab": {
          "base_uri": "https://localhost:8080/",
          "height": 34
        },
        "id": "DvjhHvBj2Z7k",
        "outputId": "825de013-55ca-4b29-821a-de1d9b32fb2b"
      },
      "source": [
        "phone = \"2004-959-559 # This is Phone Number\"\n",
        "re.sub('[0-9]', '0', phone)"
      ],
      "execution_count": 14,
      "outputs": [
        {
          "output_type": "execute_result",
          "data": {
            "application/vnd.google.colaboratory.intrinsic+json": {
              "type": "string"
            },
            "text/plain": [
              "'0000-000-000 # This is Phone Number'"
            ]
          },
          "metadata": {},
          "execution_count": 14
        }
      ]
    },
    {
      "cell_type": "code",
      "metadata": {
        "id": "QlLttmL62ons"
      },
      "source": [
        ""
      ],
      "execution_count": null,
      "outputs": []
    }
  ]
}